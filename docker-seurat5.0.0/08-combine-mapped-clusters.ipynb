{
 "cells": [
  {
   "cell_type": "code",
   "execution_count": 1,
   "id": "2b80121a-dc97-4bcf-bdca-52c6cc227055",
   "metadata": {},
   "outputs": [
    {
     "name": "stderr",
     "output_type": "stream",
     "text": [
      "\n",
      "Attaching package: ‘dplyr’\n",
      "\n",
      "\n",
      "The following objects are masked from ‘package:stats’:\n",
      "\n",
      "    filter, lag\n",
      "\n",
      "\n",
      "The following objects are masked from ‘package:base’:\n",
      "\n",
      "    intersect, setdiff, setequal, union\n",
      "\n",
      "\n"
     ]
    }
   ],
   "source": [
    "library(tibble)\n",
    "library(dplyr)"
   ]
  },
  {
   "cell_type": "code",
   "execution_count": 2,
   "id": "7bb76a93-489b-46ab-8f81-59756f0149b6",
   "metadata": {},
   "outputs": [],
   "source": [
    "files <- dir(path=\"outs-mapped-cluster1\", pattern=\"*-metadata.tsv\", full.names=TRUE,)"
   ]
  },
  {
   "cell_type": "code",
   "execution_count": 3,
   "id": "efdc0dba-66df-4841-a119-3a8e1a98e869",
   "metadata": {},
   "outputs": [],
   "source": [
    "tables <- lapply(files, read.table)"
   ]
  },
  {
   "cell_type": "code",
   "execution_count": 4,
   "id": "5cf4b3d2-44d9-47e7-b192-0102676b5580",
   "metadata": {},
   "outputs": [],
   "source": [
    "combined <- do.call(what = rbind, args=tables)"
   ]
  },
  {
   "cell_type": "code",
   "execution_count": 5,
   "id": "4305f792-753f-4b85-8a9e-74711e5e4bc1",
   "metadata": {},
   "outputs": [
    {
     "data": {
      "text/html": [
       "<style>\n",
       ".list-inline {list-style: none; margin:0; padding: 0}\n",
       ".list-inline>li {display: inline-block}\n",
       ".list-inline>li:not(:last-child)::after {content: \"\\00b7\"; padding: 0 .5ex}\n",
       "</style>\n",
       "<ol class=list-inline><li>36474</li><li>9</li></ol>\n"
      ],
      "text/latex": [
       "\\begin{enumerate*}\n",
       "\\item 36474\n",
       "\\item 9\n",
       "\\end{enumerate*}\n"
      ],
      "text/markdown": [
       "1. 36474\n",
       "2. 9\n",
       "\n",
       "\n"
      ],
      "text/plain": [
       "[1] 36474     9"
      ]
     },
     "metadata": {},
     "output_type": "display_data"
    },
    {
     "data": {
      "text/html": [
       "<table class=\"dataframe\">\n",
       "<caption>A matrix: 2 × 4 of type int</caption>\n",
       "<tbody>\n",
       "\t<tr><td>7987</td><td>11243</td><td>3442</td><td>13802</td></tr>\n",
       "\t<tr><td>   9</td><td>    9</td><td>   9</td><td>    9</td></tr>\n",
       "</tbody>\n",
       "</table>\n"
      ],
      "text/latex": [
       "A matrix: 2 × 4 of type int\n",
       "\\begin{tabular}{llll}\n",
       "\t 7987 & 11243 & 3442 & 13802\\\\\n",
       "\t    9 &     9 &    9 &     9\\\\\n",
       "\\end{tabular}\n"
      ],
      "text/markdown": [
       "\n",
       "A matrix: 2 × 4 of type int\n",
       "\n",
       "| 7987 | 11243 | 3442 | 13802 |\n",
       "|    9 |     9 |    9 |     9 |\n",
       "\n"
      ],
      "text/plain": [
       "     [,1] [,2]  [,3] [,4] \n",
       "[1,] 7987 11243 3442 13802\n",
       "[2,]    9     9    9     9"
      ]
     },
     "metadata": {},
     "output_type": "display_data"
    }
   ],
   "source": [
    "dim(combined)\n",
    "sapply(tables, dim)"
   ]
  },
  {
   "cell_type": "code",
   "execution_count": 6,
   "id": "8475cb6f-994a-4093-9ca8-f9a6cea52bb3",
   "metadata": {},
   "outputs": [],
   "source": [
    "tbl <- rownames_to_column(combined, \"cell_barcode\") |> \n",
    "    mutate(in_trm1_cluster = best_target_cluster) |>\n",
    "    select(-overlap_target_cluster, -best_target_cluster)"
   ]
  },
  {
   "cell_type": "code",
   "execution_count": 7,
   "id": "2a024be9-7815-4f40-8db2-5053e0deb0c2",
   "metadata": {},
   "outputs": [
    {
     "data": {
      "text/html": [
       "<table class=\"dataframe\">\n",
       "<caption>A data.frame: 6 × 9</caption>\n",
       "<thead>\n",
       "\t<tr><th></th><th scope=col>cell_barcode</th><th scope=col>orig.ident</th><th scope=col>nCount_RNA</th><th scope=col>nFeature_RNA</th><th scope=col>percent.mt</th><th scope=col>predicted.ID</th><th scope=col>RNA_snn_res.0.5</th><th scope=col>seurat_clusters</th><th scope=col>in_trm1_cluster</th></tr>\n",
       "\t<tr><th></th><th scope=col>&lt;chr&gt;</th><th scope=col>&lt;chr&gt;</th><th scope=col>&lt;int&gt;</th><th scope=col>&lt;int&gt;</th><th scope=col>&lt;dbl&gt;</th><th scope=col>&lt;int&gt;</th><th scope=col>&lt;int&gt;</th><th scope=col>&lt;int&gt;</th><th scope=col>&lt;lgl&gt;</th></tr>\n",
       "</thead>\n",
       "<tbody>\n",
       "\t<tr><th scope=row>1</th><td>SPIRT1Pre-PBMC_AAACAAGCATTGAAGTACTTTAGG-1</td><td>SPIRT1Pre-PBMC</td><td>2402</td><td>1589</td><td>2.373022</td><td>NA</td><td>2</td><td>2</td><td>FALSE</td></tr>\n",
       "\t<tr><th scope=row>2</th><td>SPIRT1Pre-PBMC_AAACGTTCACATACCTACTTTAGG-1</td><td>SPIRT1Pre-PBMC</td><td>3942</td><td>2290</td><td>1.547438</td><td>NA</td><td>1</td><td>1</td><td>FALSE</td></tr>\n",
       "\t<tr><th scope=row>3</th><td>SPIRT1Pre-PBMC_AAACTGTCACATAGTGACTTTAGG-1</td><td>SPIRT1Pre-PBMC</td><td>3687</td><td>2126</td><td>2.685110</td><td>NA</td><td>1</td><td>1</td><td>FALSE</td></tr>\n",
       "\t<tr><th scope=row>4</th><td>SPIRT1Pre-PBMC_AAACTGTCACGCCACTACTTTAGG-1</td><td>SPIRT1Pre-PBMC</td><td>1114</td><td> 777</td><td>4.398564</td><td>NA</td><td>4</td><td>4</td><td>FALSE</td></tr>\n",
       "\t<tr><th scope=row>5</th><td>SPIRT1Pre-PBMC_AAAGCGAAGCAGCCAAACTTTAGG-1</td><td>SPIRT1Pre-PBMC</td><td>3694</td><td>2131</td><td>1.976178</td><td>NA</td><td>5</td><td>5</td><td>FALSE</td></tr>\n",
       "\t<tr><th scope=row>6</th><td>SPIRT1Pre-PBMC_AAAGCGAAGCTCATTGACTTTAGG-1</td><td>SPIRT1Pre-PBMC</td><td>3048</td><td>1992</td><td>2.723097</td><td>NA</td><td>2</td><td>2</td><td>FALSE</td></tr>\n",
       "</tbody>\n",
       "</table>\n"
      ],
      "text/latex": [
       "A data.frame: 6 × 9\n",
       "\\begin{tabular}{r|lllllllll}\n",
       "  & cell\\_barcode & orig.ident & nCount\\_RNA & nFeature\\_RNA & percent.mt & predicted.ID & RNA\\_snn\\_res.0.5 & seurat\\_clusters & in\\_trm1\\_cluster\\\\\n",
       "  & <chr> & <chr> & <int> & <int> & <dbl> & <int> & <int> & <int> & <lgl>\\\\\n",
       "\\hline\n",
       "\t1 & SPIRT1Pre-PBMC\\_AAACAAGCATTGAAGTACTTTAGG-1 & SPIRT1Pre-PBMC & 2402 & 1589 & 2.373022 & NA & 2 & 2 & FALSE\\\\\n",
       "\t2 & SPIRT1Pre-PBMC\\_AAACGTTCACATACCTACTTTAGG-1 & SPIRT1Pre-PBMC & 3942 & 2290 & 1.547438 & NA & 1 & 1 & FALSE\\\\\n",
       "\t3 & SPIRT1Pre-PBMC\\_AAACTGTCACATAGTGACTTTAGG-1 & SPIRT1Pre-PBMC & 3687 & 2126 & 2.685110 & NA & 1 & 1 & FALSE\\\\\n",
       "\t4 & SPIRT1Pre-PBMC\\_AAACTGTCACGCCACTACTTTAGG-1 & SPIRT1Pre-PBMC & 1114 &  777 & 4.398564 & NA & 4 & 4 & FALSE\\\\\n",
       "\t5 & SPIRT1Pre-PBMC\\_AAAGCGAAGCAGCCAAACTTTAGG-1 & SPIRT1Pre-PBMC & 3694 & 2131 & 1.976178 & NA & 5 & 5 & FALSE\\\\\n",
       "\t6 & SPIRT1Pre-PBMC\\_AAAGCGAAGCTCATTGACTTTAGG-1 & SPIRT1Pre-PBMC & 3048 & 1992 & 2.723097 & NA & 2 & 2 & FALSE\\\\\n",
       "\\end{tabular}\n"
      ],
      "text/markdown": [
       "\n",
       "A data.frame: 6 × 9\n",
       "\n",
       "| <!--/--> | cell_barcode &lt;chr&gt; | orig.ident &lt;chr&gt; | nCount_RNA &lt;int&gt; | nFeature_RNA &lt;int&gt; | percent.mt &lt;dbl&gt; | predicted.ID &lt;int&gt; | RNA_snn_res.0.5 &lt;int&gt; | seurat_clusters &lt;int&gt; | in_trm1_cluster &lt;lgl&gt; |\n",
       "|---|---|---|---|---|---|---|---|---|---|\n",
       "| 1 | SPIRT1Pre-PBMC_AAACAAGCATTGAAGTACTTTAGG-1 | SPIRT1Pre-PBMC | 2402 | 1589 | 2.373022 | NA | 2 | 2 | FALSE |\n",
       "| 2 | SPIRT1Pre-PBMC_AAACGTTCACATACCTACTTTAGG-1 | SPIRT1Pre-PBMC | 3942 | 2290 | 1.547438 | NA | 1 | 1 | FALSE |\n",
       "| 3 | SPIRT1Pre-PBMC_AAACTGTCACATAGTGACTTTAGG-1 | SPIRT1Pre-PBMC | 3687 | 2126 | 2.685110 | NA | 1 | 1 | FALSE |\n",
       "| 4 | SPIRT1Pre-PBMC_AAACTGTCACGCCACTACTTTAGG-1 | SPIRT1Pre-PBMC | 1114 |  777 | 4.398564 | NA | 4 | 4 | FALSE |\n",
       "| 5 | SPIRT1Pre-PBMC_AAAGCGAAGCAGCCAAACTTTAGG-1 | SPIRT1Pre-PBMC | 3694 | 2131 | 1.976178 | NA | 5 | 5 | FALSE |\n",
       "| 6 | SPIRT1Pre-PBMC_AAAGCGAAGCTCATTGACTTTAGG-1 | SPIRT1Pre-PBMC | 3048 | 1992 | 2.723097 | NA | 2 | 2 | FALSE |\n",
       "\n"
      ],
      "text/plain": [
       "  cell_barcode                              orig.ident     nCount_RNA\n",
       "1 SPIRT1Pre-PBMC_AAACAAGCATTGAAGTACTTTAGG-1 SPIRT1Pre-PBMC 2402      \n",
       "2 SPIRT1Pre-PBMC_AAACGTTCACATACCTACTTTAGG-1 SPIRT1Pre-PBMC 3942      \n",
       "3 SPIRT1Pre-PBMC_AAACTGTCACATAGTGACTTTAGG-1 SPIRT1Pre-PBMC 3687      \n",
       "4 SPIRT1Pre-PBMC_AAACTGTCACGCCACTACTTTAGG-1 SPIRT1Pre-PBMC 1114      \n",
       "5 SPIRT1Pre-PBMC_AAAGCGAAGCAGCCAAACTTTAGG-1 SPIRT1Pre-PBMC 3694      \n",
       "6 SPIRT1Pre-PBMC_AAAGCGAAGCTCATTGACTTTAGG-1 SPIRT1Pre-PBMC 3048      \n",
       "  nFeature_RNA percent.mt predicted.ID RNA_snn_res.0.5 seurat_clusters\n",
       "1 1589         2.373022   NA           2               2              \n",
       "2 2290         1.547438   NA           1               1              \n",
       "3 2126         2.685110   NA           1               1              \n",
       "4  777         4.398564   NA           4               4              \n",
       "5 2131         1.976178   NA           5               5              \n",
       "6 1992         2.723097   NA           2               2              \n",
       "  in_trm1_cluster\n",
       "1 FALSE          \n",
       "2 FALSE          \n",
       "3 FALSE          \n",
       "4 FALSE          \n",
       "5 FALSE          \n",
       "6 FALSE          "
      ]
     },
     "metadata": {},
     "output_type": "display_data"
    }
   ],
   "source": [
    "head(tbl)"
   ]
  },
  {
   "cell_type": "code",
   "execution_count": 8,
   "id": "9b51b0b7-e124-4e82-8034-7138af06591a",
   "metadata": {},
   "outputs": [],
   "source": [
    "write.table(\n",
    "    tbl, \n",
    "    file = \"outs-mapped-cluster1/mapped-trm1-combined.tsv\", \n",
    "    sep=\"\\t\", \n",
    "    row.names=FALSE,\n",
    "    quote=FALSE\n",
    ")"
   ]
  },
  {
   "cell_type": "code",
   "execution_count": 11,
   "id": "4dd47f82-71c7-4455-8abf-5da7f81e55a0",
   "metadata": {},
   "outputs": [
    {
     "data": {
      "text/html": [
       "<table class=\"dataframe\">\n",
       "<caption>A tibble: 16 × 3</caption>\n",
       "<thead>\n",
       "\t<tr><th scope=col>orig.ident</th><th scope=col>in_trm1_cluster</th><th scope=col>total_cells</th></tr>\n",
       "\t<tr><th scope=col>&lt;chr&gt;</th><th scope=col>&lt;int&gt;</th><th scope=col>&lt;int&gt;</th></tr>\n",
       "</thead>\n",
       "<tbody>\n",
       "\t<tr><td>SPIRT1Mid-PBMC   </td><td>  1</td><td>1818</td></tr>\n",
       "\t<tr><td>SPIRT1Mid-Skin375</td><td>219</td><td>2588</td></tr>\n",
       "\t<tr><td>SPIRT1Pre-PBMC   </td><td>  0</td><td> 886</td></tr>\n",
       "\t<tr><td>SPIRT1Pre-Skin350</td><td>206</td><td>2695</td></tr>\n",
       "\t<tr><td>SPIRT2Mid-PBMC   </td><td>  3</td><td>1427</td></tr>\n",
       "\t<tr><td>SPIRT2Mid-Skin384</td><td>375</td><td>2568</td></tr>\n",
       "\t<tr><td>SPIRT2Pre-PBMC   </td><td> 14</td><td>1691</td></tr>\n",
       "\t<tr><td>SPIRT2Pre-Skin362</td><td>680</td><td>5557</td></tr>\n",
       "\t<tr><td>SPIRT4Mid-PBMC   </td><td>  4</td><td> 733</td></tr>\n",
       "\t<tr><td>SPIRT4Mid-Skin396</td><td> 60</td><td> 214</td></tr>\n",
       "\t<tr><td>SPIRT4Pre-PBMC   </td><td>  5</td><td> 475</td></tr>\n",
       "\t<tr><td>SPIRT4Pre-Skin365</td><td>425</td><td>2020</td></tr>\n",
       "\t<tr><td>SPIRT5Mid-PBMC   </td><td> 86</td><td>1832</td></tr>\n",
       "\t<tr><td>SPIRT5Mid-Skin397</td><td>539</td><td>3044</td></tr>\n",
       "\t<tr><td>SPIRT5Pre-PBMC   </td><td> 89</td><td>1920</td></tr>\n",
       "\t<tr><td>SPIRT5Pre-Skin336</td><td>799</td><td>7006</td></tr>\n",
       "</tbody>\n",
       "</table>\n"
      ],
      "text/latex": [
       "A tibble: 16 × 3\n",
       "\\begin{tabular}{lll}\n",
       " orig.ident & in\\_trm1\\_cluster & total\\_cells\\\\\n",
       " <chr> & <int> & <int>\\\\\n",
       "\\hline\n",
       "\t SPIRT1Mid-PBMC    &   1 & 1818\\\\\n",
       "\t SPIRT1Mid-Skin375 & 219 & 2588\\\\\n",
       "\t SPIRT1Pre-PBMC    &   0 &  886\\\\\n",
       "\t SPIRT1Pre-Skin350 & 206 & 2695\\\\\n",
       "\t SPIRT2Mid-PBMC    &   3 & 1427\\\\\n",
       "\t SPIRT2Mid-Skin384 & 375 & 2568\\\\\n",
       "\t SPIRT2Pre-PBMC    &  14 & 1691\\\\\n",
       "\t SPIRT2Pre-Skin362 & 680 & 5557\\\\\n",
       "\t SPIRT4Mid-PBMC    &   4 &  733\\\\\n",
       "\t SPIRT4Mid-Skin396 &  60 &  214\\\\\n",
       "\t SPIRT4Pre-PBMC    &   5 &  475\\\\\n",
       "\t SPIRT4Pre-Skin365 & 425 & 2020\\\\\n",
       "\t SPIRT5Mid-PBMC    &  86 & 1832\\\\\n",
       "\t SPIRT5Mid-Skin397 & 539 & 3044\\\\\n",
       "\t SPIRT5Pre-PBMC    &  89 & 1920\\\\\n",
       "\t SPIRT5Pre-Skin336 & 799 & 7006\\\\\n",
       "\\end{tabular}\n"
      ],
      "text/markdown": [
       "\n",
       "A tibble: 16 × 3\n",
       "\n",
       "| orig.ident &lt;chr&gt; | in_trm1_cluster &lt;int&gt; | total_cells &lt;int&gt; |\n",
       "|---|---|---|\n",
       "| SPIRT1Mid-PBMC    |   1 | 1818 |\n",
       "| SPIRT1Mid-Skin375 | 219 | 2588 |\n",
       "| SPIRT1Pre-PBMC    |   0 |  886 |\n",
       "| SPIRT1Pre-Skin350 | 206 | 2695 |\n",
       "| SPIRT2Mid-PBMC    |   3 | 1427 |\n",
       "| SPIRT2Mid-Skin384 | 375 | 2568 |\n",
       "| SPIRT2Pre-PBMC    |  14 | 1691 |\n",
       "| SPIRT2Pre-Skin362 | 680 | 5557 |\n",
       "| SPIRT4Mid-PBMC    |   4 |  733 |\n",
       "| SPIRT4Mid-Skin396 |  60 |  214 |\n",
       "| SPIRT4Pre-PBMC    |   5 |  475 |\n",
       "| SPIRT4Pre-Skin365 | 425 | 2020 |\n",
       "| SPIRT5Mid-PBMC    |  86 | 1832 |\n",
       "| SPIRT5Mid-Skin397 | 539 | 3044 |\n",
       "| SPIRT5Pre-PBMC    |  89 | 1920 |\n",
       "| SPIRT5Pre-Skin336 | 799 | 7006 |\n",
       "\n"
      ],
      "text/plain": [
       "   orig.ident        in_trm1_cluster total_cells\n",
       "1  SPIRT1Mid-PBMC      1             1818       \n",
       "2  SPIRT1Mid-Skin375 219             2588       \n",
       "3  SPIRT1Pre-PBMC      0              886       \n",
       "4  SPIRT1Pre-Skin350 206             2695       \n",
       "5  SPIRT2Mid-PBMC      3             1427       \n",
       "6  SPIRT2Mid-Skin384 375             2568       \n",
       "7  SPIRT2Pre-PBMC     14             1691       \n",
       "8  SPIRT2Pre-Skin362 680             5557       \n",
       "9  SPIRT4Mid-PBMC      4              733       \n",
       "10 SPIRT4Mid-Skin396  60              214       \n",
       "11 SPIRT4Pre-PBMC      5              475       \n",
       "12 SPIRT4Pre-Skin365 425             2020       \n",
       "13 SPIRT5Mid-PBMC     86             1832       \n",
       "14 SPIRT5Mid-Skin397 539             3044       \n",
       "15 SPIRT5Pre-PBMC     89             1920       \n",
       "16 SPIRT5Pre-Skin336 799             7006       "
      ]
     },
     "metadata": {},
     "output_type": "display_data"
    }
   ],
   "source": [
    "summary <- group_by(tbl, orig.ident) |> summarize(\n",
    "    in_trm1_cluster = sum(in_trm1_cluster),\n",
    "    total_cells = n()\n",
    ")\n",
    "summary"
   ]
  },
  {
   "cell_type": "code",
   "execution_count": null,
   "id": "d272dfaf-8435-462a-aedf-1e96706c9852",
   "metadata": {},
   "outputs": [],
   "source": [
    "summary"
   ]
  }
 ],
 "metadata": {
  "kernelspec": {
   "display_name": "R",
   "language": "R",
   "name": "ir"
  },
  "language_info": {
   "codemirror_mode": "r",
   "file_extension": ".r",
   "mimetype": "text/x-r-source",
   "name": "R",
   "pygments_lexer": "r",
   "version": "4.2.0"
  }
 },
 "nbformat": 4,
 "nbformat_minor": 5
}
