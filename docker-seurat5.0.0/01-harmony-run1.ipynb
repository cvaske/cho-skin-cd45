{
 "cells": [
  {
   "cell_type": "code",
   "execution_count": 1,
   "id": "a187cc45-c6e0-4772-8c2e-558622f5dbe9",
   "metadata": {},
   "outputs": [
    {
     "name": "stderr",
     "output_type": "stream",
     "text": [
      "Loading required package: SeuratObject\n",
      "\n",
      "Loading required package: sp\n",
      "\n",
      "\n",
      "Attaching package: ‘SeuratObject’\n",
      "\n",
      "\n",
      "The following object is masked from ‘package:base’:\n",
      "\n",
      "    intersect\n",
      "\n",
      "\n",
      "Loading required package: Rcpp\n",
      "\n"
     ]
    }
   ],
   "source": [
    "library(Seurat)\n",
    "library(harmony)\n",
    "library(ggplot2)"
   ]
  },
  {
   "cell_type": "code",
   "execution_count": 2,
   "id": "0016d84f-3405-4bda-922a-2447d21c89d4",
   "metadata": {},
   "outputs": [],
   "source": [
    "samples.md <- read.table(\"samples-cutoffs.tsv\")"
   ]
  },
  {
   "cell_type": "code",
   "execution_count": 1,
   "id": "e55447c7-29a3-4818-b374-a814820ac6cc",
   "metadata": {},
   "outputs": [],
   "source": [
    "load.subset <- function(h5, project, nFeature.min, nFeature.max, percent.mt.max, sample) {\n",
    "    so <- CreateSeuratObject(counts = Read10X_h5(h5), project = project)\n",
    "    so[[\"percent.mt\"]] <- PercentageFeatureSet(so, pattern = \"^MT-\")\n",
    "    orig.cells <- ncol(so$RNA)\n",
    "    so <- subset(so, subset = nFeature_RNA < nFeature.max & nFeature_RNA > nFeature.min & percent.mt < percent.mt.max)\n",
    "    return(list(seurat=so, orig.cells = orig.cells, kept.cells = ncol(so$RNA), percent.kept = ncol(so$RNA) / orig.cells))\n",
    "}"
   ]
  },
  {
   "cell_type": "code",
   "execution_count": null,
   "id": "3327ca39-ac02-4efa-a2af-655f6cb7ed60",
   "metadata": {},
   "outputs": [],
   "source": [
    "load.mergeset <- function(md) {\n",
    "    subsets <- mapply(FUN=load.subset,\n",
    "                      sample = md$Sample,\n",
    "                      h5 = md$H5, \n",
    "                      project = md$Sample, \n",
    "                      nFeature.min = md$nFeature.min, \n",
    "                      nFeature.max = md$nFeature.max,\n",
    "                      percent.mt = md$percent.mt.max,\n",
    "                     SIMPLIFY=FALSE)\n",
    "    seurats <- sapply(subsets, '[[', 'seurat')\n",
    "    subset.df <- data.frame(\n",
    "        Sample = md$Sample, \n",
    "        percent.kept = sapply(subsets, '[[', \"percent.kept\"),\n",
    "        orig.cells = sapply(subsets, '[[', \"orig.cells\"),\n",
    "        kept.cells = sapply(subsets, '[[', \"kept.cells\")\n",
    "    )\n",
    "    \n",
    "    genes.intersection <- rownames(seurats[[1]])\n",
    "    for (i in 2:length(seurats)) {\n",
    "        genes.intersection <- intersect(genes.intersection, rownames(seurats[[i]]))\n",
    "    }\n",
    "\n",
    "    seurat <- merge(seurats[[1]], y = seurats[-1], add.cell.ids = md$Sample, project = md$Case[1])\n",
    "    seurat <- seurat[genes.intersection,]\n",
    "\n",
    "    # Very important to subset to [[\"RNA\"]] in the right side here, or it consumes all RAM\n",
    "    # https://github.com/satijalab/seurat/issues/8208\n",
    "    seurat[[\"RNA\"]] <- JoinLayers(seurat[[\"RNA\"]])\n",
    "\n",
    "    seurat <- NormalizeData(seurat)\n",
    "\n",
    "    VariableFeatures(seurat) <- split(row.names(seurat@meta.data), seurat@meta.data$orig.ident) %>% lapply(function(cells_use) {\n",
    "        seurat[,cells_use] %>%\n",
    "            FindVariableFeatures(selection.method = \"vst\", nfeatures = 2000) %>% \n",
    "            VariableFeatures()\n",
    "    }) %>% unlist %>% unique\n",
    "\n",
    "    seurat <- seurat %>% \n",
    "        ScaleData(verbose = FALSE) %>% \n",
    "        RunPCA(features = VariableFeatures(seurat), npcs = 20, verbose = FALSE)\n",
    "    \n",
    "    return(list(\n",
    "        seurat=seurat, \n",
    "        df=subset.df\n",
    "    ))\n",
    "}"
   ]
  }
 ],
 "metadata": {
  "kernelspec": {
   "display_name": "R",
   "language": "R",
   "name": "ir"
  },
  "language_info": {
   "codemirror_mode": "r",
   "file_extension": ".r",
   "mimetype": "text/x-r-source",
   "name": "R",
   "pygments_lexer": "r",
   "version": "4.2.0"
  }
 },
 "nbformat": 4,
 "nbformat_minor": 5
}
